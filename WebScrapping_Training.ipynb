{
 "cells": [
  {
   "cell_type": "markdown",
   "id": "d698541b-23b2-491e-a430-c8c40c7830e8",
   "metadata": {},
   "source": [
    "### WebScrapping"
   ]
  },
  {
   "cell_type": "code",
   "execution_count": 7,
   "id": "33c3b225-76f5-49ba-ab47-2502b9c111fa",
   "metadata": {},
   "outputs": [
    {
     "data": {
      "text/html": [
       "<div>\n",
       "<style scoped>\n",
       "    .dataframe tbody tr th:only-of-type {\n",
       "        vertical-align: middle;\n",
       "    }\n",
       "\n",
       "    .dataframe tbody tr th {\n",
       "        vertical-align: top;\n",
       "    }\n",
       "\n",
       "    .dataframe thead th {\n",
       "        text-align: right;\n",
       "    }\n",
       "</style>\n",
       "<table border=\"1\" class=\"dataframe\">\n",
       "  <thead>\n",
       "    <tr style=\"text-align: right;\">\n",
       "      <th></th>\n",
       "      <th>Fruits</th>\n",
       "      <th>Links</th>\n",
       "    </tr>\n",
       "  </thead>\n",
       "  <tbody>\n",
       "    <tr>\n",
       "      <th>0</th>\n",
       "      <td>Banana1</td>\n",
       "      <td>https://www.google.com/search?sca_esv=08590015...</td>\n",
       "    </tr>\n",
       "    <tr>\n",
       "      <th>1</th>\n",
       "      <td>Mango1</td>\n",
       "      <td>https://www.google.com/search?sca_esv=08590015...</td>\n",
       "    </tr>\n",
       "    <tr>\n",
       "      <th>2</th>\n",
       "      <td>Orange1</td>\n",
       "      <td>https://www.google.com/search?sca_esv=08590015...</td>\n",
       "    </tr>\n",
       "    <tr>\n",
       "      <th>3</th>\n",
       "      <td>Orange2</td>\n",
       "      <td>https://www.google.com/search?q=isolated+orang...</td>\n",
       "    </tr>\n",
       "    <tr>\n",
       "      <th>4</th>\n",
       "      <td>Banana2</td>\n",
       "      <td>https://www.google.com/search?q=banana+on+whit...</td>\n",
       "    </tr>\n",
       "    <tr>\n",
       "      <th>5</th>\n",
       "      <td>Banana3</td>\n",
       "      <td>https://www.google.com/search?sca_esv=08590015...</td>\n",
       "    </tr>\n",
       "    <tr>\n",
       "      <th>6</th>\n",
       "      <td>Mango2</td>\n",
       "      <td>https://www.gettyimages.com/search/2/image?phr...</td>\n",
       "    </tr>\n",
       "    <tr>\n",
       "      <th>7</th>\n",
       "      <td>Orange3</td>\n",
       "      <td>https://www.google.com/search?sca_esv=08590015...</td>\n",
       "    </tr>\n",
       "    <tr>\n",
       "      <th>8</th>\n",
       "      <td>apple3</td>\n",
       "      <td>https://www.stickpng.com/img/food/fruits/apple...</td>\n",
       "    </tr>\n",
       "    <tr>\n",
       "      <th>9</th>\n",
       "      <td>apple1</td>\n",
       "      <td>https://www.istockphoto.com/search/2/image-fil...</td>\n",
       "    </tr>\n",
       "  </tbody>\n",
       "</table>\n",
       "</div>"
      ],
      "text/plain": [
       "    Fruits                                              Links\n",
       "0  Banana1  https://www.google.com/search?sca_esv=08590015...\n",
       "1   Mango1  https://www.google.com/search?sca_esv=08590015...\n",
       "2  Orange1  https://www.google.com/search?sca_esv=08590015...\n",
       "3  Orange2  https://www.google.com/search?q=isolated+orang...\n",
       "4  Banana2  https://www.google.com/search?q=banana+on+whit...\n",
       "5  Banana3  https://www.google.com/search?sca_esv=08590015...\n",
       "6   Mango2  https://www.gettyimages.com/search/2/image?phr...\n",
       "7  Orange3  https://www.google.com/search?sca_esv=08590015...\n",
       "8   apple3  https://www.stickpng.com/img/food/fruits/apple...\n",
       "9   apple1  https://www.istockphoto.com/search/2/image-fil..."
      ]
     },
     "execution_count": 7,
     "metadata": {},
     "output_type": "execute_result"
    }
   ],
   "source": [
    "import pandas as pd\n",
    "import os\n",
    "import requests\n",
    "from bs4 import BeautifulSoup\n",
    "# Load the CSV file\n",
    "csv_file_path = 'Fruit_Site_Links  - Sheet1.csv'\n",
    "data = pd.read_csv(csv_file_path)\n",
    "\n",
    "# Display the first few rows to confirm the data structure\n",
    "data.head(10)\n"
   ]
  },
  {
   "cell_type": "code",
   "execution_count": 32,
   "id": "6882d0f1-9b36-4d4e-bafc-50a78bb468fe",
   "metadata": {},
   "outputs": [],
   "source": [
    "# Function to download an image from a URL and save it locally\n",
    "def download_image(url, folder_name, image_name):\n",
    "    try:\n",
    "        response = requests.get(url, stream=True)\n",
    "        response.raise_for_status()\n",
    "        image_path = os.path.join(folder_name, image_name)\n",
    "        with open(image_path, 'wb') as out_file:\n",
    "            out_file.write(response.content)\n",
    "    except Exception as e:\n",
    "        print(f\"Failed to download {url}: {e}\")\n"
   ]
  },
  {
   "cell_type": "code",
   "execution_count": 34,
   "id": "ea31a193-5344-43b5-a4ed-957092a3ba49",
   "metadata": {},
   "outputs": [],
   "source": [
    "def scrape_images(url, folder_name):\n",
    "    headers = {\n",
    "        'User-Agent': 'Mozilla/5.0 (Windows NT 10.0; Win64; x64) AppleWebKit/537.36 (KHTML, like Gecko) Chrome/58.0.3029.110 Safari/537.3'\n",
    "    }\n",
    "    session = requests.Session()\n",
    "    try:\n",
    "        response = session.get(url, headers=headers)\n",
    "        response.raise_for_status()\n",
    "        soup = BeautifulSoup(response.content, 'html.parser')\n",
    "        \n",
    "        # Find all image tags\n",
    "        image_tags = soup.find_all('img')\n",
    "        \n",
    "        # Download each image\n",
    "        for i, img_tag in enumerate(image_tags):\n",
    "            if i >= 50:  # Limit to 50 images\n",
    "                break\n",
    "            img_url = img_tag.get('src')\n",
    "            if img_url and not img_url.startswith('http'):\n",
    "                img_url = url + img_url  # Handle relative URLs\n",
    "            if img_url:\n",
    "                # Extract the base name of the folder\n",
    "                base_name = os.path.basename(folder_name)\n",
    "                # Construct the image name\n",
    "                image_name = f\"{base_name}_{i + 1}.jpg\"\n",
    "                download_image(img_url, folder_name, image_name)\n",
    "    except Exception as e:\n",
    "        print(f\"Failed to scrape {url}: {e}\")\n"
   ]
  },
  {
   "cell_type": "code",
   "execution_count": 35,
   "id": "a3628b66-dc18-4889-92d6-daa15757fb35",
   "metadata": {},
   "outputs": [],
   "source": [
    "\n",
    "\n",
    "# Create a folder to save the images\n",
    "os.makedirs('fruit_images', exist_ok=True)\n"
   ]
  },
  {
   "cell_type": "code",
   "execution_count": 36,
   "id": "d431c38b-8723-433b-805e-dc82539d992a",
   "metadata": {},
   "outputs": [
    {
     "name": "stdout",
     "output_type": "stream",
     "text": [
      "Failed to download https://encrypted-tbn0.gstatic.com/images?q=tbn:ANd9GcQ-MMpbSO9RTjiAqmgYNkpwPhE42HIaicdoshgyey7OrA2Sj0RHgSU8GKqrQUU&s: ('Connection aborted.', RemoteDisconnected('Remote end closed connection without response'))\n",
      "Failed to scrape https://www.gettyimages.com/search/2/image?phrase=single%20mango%20isolated&sort=mostpopular&license=rf%2Crm: 403 Client Error: Forbidden for url: https://www.gettyimages.com/search/2/image?phrase=single%20mango%20isolated&sort=mostpopular&license=rf%2Crm\n",
      "Failed to scrape https://www.istockphoto.com/search/2/image-film?istockcollection=signature%2Csignatureplus&page=3&phrase=apple%20fruit: 403 Client Error: Forbidden for url: https://www.istockphoto.com/search/2/image-film?istockcollection=signature%2Csignatureplus&page=3&phrase=apple%20fruit\n",
      "Image scraping and downloading completed.\n"
     ]
    }
   ],
   "source": [
    "# Iterate over the links in the CSV file and scrape images from each website\n",
    "for index, row in data.iterrows():\n",
    "    fruit = row['Fruits']\n",
    "    link = row['Links']\n",
    "    folder_name = os.path.join('fruit_images', fruit)\n",
    "    os.makedirs(folder_name, exist_ok=True)\n",
    "    scrape_images(link, folder_name)\n",
    "\n",
    "print(\"Image scraping and downloading completed.\")"
   ]
  },
  {
   "cell_type": "code",
   "execution_count": null,
   "id": "0e10f3cf-f9ee-48eb-a59f-0c7d415b5168",
   "metadata": {},
   "outputs": [],
   "source": []
  },
  {
   "cell_type": "code",
   "execution_count": null,
   "id": "567dd4c7-4b3a-41af-b93c-797ee2ef1fff",
   "metadata": {},
   "outputs": [],
   "source": []
  },
  {
   "cell_type": "code",
   "execution_count": null,
   "id": "06ef4e16-82d2-4fb7-9519-aa48d5796018",
   "metadata": {},
   "outputs": [],
   "source": []
  },
  {
   "cell_type": "code",
   "execution_count": null,
   "id": "109ac56f-8f23-417d-bdbe-ac3f2f7ff247",
   "metadata": {},
   "outputs": [],
   "source": []
  },
  {
   "cell_type": "code",
   "execution_count": null,
   "id": "095f333a-eb02-4a6a-b643-e0fe21d11863",
   "metadata": {},
   "outputs": [],
   "source": []
  },
  {
   "cell_type": "code",
   "execution_count": null,
   "id": "9d441056-2cb1-4efe-8818-4be33ceb4fb0",
   "metadata": {},
   "outputs": [],
   "source": []
  },
  {
   "cell_type": "code",
   "execution_count": null,
   "id": "28928d5a-a100-4f05-89c5-a212e7e2d3a1",
   "metadata": {},
   "outputs": [],
   "source": []
  },
  {
   "cell_type": "code",
   "execution_count": null,
   "id": "a8842a98-d3c7-4f4b-8bfd-0c600e3b9be0",
   "metadata": {},
   "outputs": [],
   "source": []
  },
  {
   "cell_type": "code",
   "execution_count": null,
   "id": "30c143fd-45c5-49fd-8b87-94f7982222f9",
   "metadata": {},
   "outputs": [],
   "source": []
  },
  {
   "cell_type": "code",
   "execution_count": null,
   "id": "beebdee4-5d34-4901-a062-6c6779924f7b",
   "metadata": {},
   "outputs": [],
   "source": []
  }
 ],
 "metadata": {
  "kernelspec": {
   "display_name": "training_env",
   "language": "python",
   "name": "training_env"
  },
  "language_info": {
   "codemirror_mode": {
    "name": "ipython",
    "version": 3
   },
   "file_extension": ".py",
   "mimetype": "text/x-python",
   "name": "python",
   "nbconvert_exporter": "python",
   "pygments_lexer": "ipython3",
   "version": "3.9.19"
  }
 },
 "nbformat": 4,
 "nbformat_minor": 5
}
